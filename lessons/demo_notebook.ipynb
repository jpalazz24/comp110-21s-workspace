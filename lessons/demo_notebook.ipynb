{
 "metadata": {
  "language_info": {
   "codemirror_mode": {
    "name": "ipython",
    "version": 3
   },
   "file_extension": ".py",
   "mimetype": "text/x-python",
   "name": "python",
   "nbconvert_exporter": "python",
   "pygments_lexer": "ipython3",
   "version": "3.9.1-final"
  },
  "orig_nbformat": 2,
  "kernelspec": {
   "name": "python3",
   "display_name": "Python 3.9.1 64-bit",
   "metadata": {
    "interpreter": {
     "hash": "aee8b7b246df8f9039afb4144a1f6fd8d2ca17a180786b69acc140d282b71a49"
    }
   }
  }
 },
 "nbformat": 4,
 "nbformat_minor": 2,
 "cells": [
  {
   "source": [
    "# My First Notebook\n",
    "\n",
    "This cell will render as _rich-formatted text_ when it is evaluated. In order to make a cell markdown, click the M-down arrow button on the cell header. \n",
    "\n",
    "## Subheadings and other formats\n",
    "* Bulleted lists with stars\n",
    "* **bolded text**\n",
    "* [Links to web pages](https://www.google.com)"
   ],
   "cell_type": "markdown",
   "metadata": {}
  },
  {
   "cell_type": "code",
   "execution_count": 2,
   "metadata": {},
   "outputs": [
    {
     "output_type": "stream",
     "name": "stdout",
     "text": [
      "Hello, Jake\n"
     ]
    }
   ],
   "source": [
    "name: str = \"Jake\"\n",
    "print(f\"Hello, {name}\")"
   ]
  },
  {
   "source": [
    "## Keyboard Shortcuts to Know\n",
    "\n",
    "`Control + Enter` - Evaluates the current cell and keeps focus in the current cell.\n",
    "\n",
    "`Shift + Enter` - Evaluates the current cells and moves focus to the next cell."
   ],
   "cell_type": "markdown",
   "metadata": {}
  },
  {
   "cell_type": "code",
   "execution_count": 3,
   "metadata": {},
   "outputs": [
    {
     "output_type": "stream",
     "name": "stdout",
     "text": [
      "Wow, Jake, you are doing great!\n"
     ]
    }
   ],
   "source": [
    "print(f\"Wow, {name}, you are doing great!\")"
   ]
  },
  {
   "source": [
    "## The last expression of a cell is printed by default"
   ],
   "cell_type": "markdown",
   "metadata": {}
  },
  {
   "cell_type": "code",
   "execution_count": 4,
   "metadata": {},
   "outputs": [
    {
     "output_type": "stream",
     "name": "stdout",
     "text": [
      "The result is\nMultiple print statements leads to multiple lines in a cell input\n"
     ]
    },
    {
     "output_type": "execute_result",
     "data": {
      "text/plain": [
       "31.400000000000002"
      ]
     },
     "metadata": {},
     "execution_count": 4
    }
   ],
   "source": [
    "result: float = 3.14 *10\n",
    "print(\"The result is\")\n",
    "print(\"Multiple print statements leads to multiple lines in a cell input\")\n",
    "result"
   ]
  }
 ]
}